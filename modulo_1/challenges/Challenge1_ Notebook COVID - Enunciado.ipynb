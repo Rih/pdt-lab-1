{
    "cells": [
        {
            "metadata": {},
            "cell_type": "markdown",
            "source": "# Manejo de datos con pandas \n## Datasets\nEl dataset utilizado en el presente ejemplo proviene de la informaci\u00f3n oficial de los datos del COVID-19 en Chile manejados por el Ministerio de Salud, disponibilizados por el [Ministerio de Ciencias y Tecnolog\u00eda](https://github.com/MinCiencia/Datos-COVID19/). \n\nLa fecha de la ultima actualizaci\u00f3n utilizada fue el 19/04/2020, y los datos son los siguientes:"
        },
        {
            "metadata": {},
            "cell_type": "code",
            "source": "import types\nimport pandas as pd\nfrom botocore.client import Config\nimport ibm_boto3\n\ndef __iter__(self): return 0\n\n# @hidden_cell\n# The following code accesses a file in your IBM Cloud Object Storage. It includes your credentials.\n# You might want to remove those credentials before you share the notebook.\nclient_a134f8ac93734b37bd6ff1a1030d8baa = ibm_boto3.client(service_name='s3',\n    ibm_api_key_id='OUuSpg0VgA-o5WA6JBEGNwDtA2eJo3zDHBcwVdOjwFM_',\n    ibm_auth_endpoint=\"https://iam.ng.bluemix.net/oidc/token\",\n    config=Config(signature_version='oauth'),\n    endpoint_url='https://s3-api.us-geo.objectstorage.service.networklayer.com')\n\nbody = client_a134f8ac93734b37bd6ff1a1030d8baa.get_object(Bucket='covid-donotdelete-pr-tv17s71l1pduzg',Key='Covid-19.csv')['Body']\n# add missing __iter__ method, so pandas accepts body as file-like object\nif not hasattr(body, \"__iter__\"): body.__iter__ = types.MethodType( __iter__, body )\n\ndf = pd.read_csv(body)\ndf.head()\n",
            "execution_count": 1,
            "outputs": [
                {
                    "output_type": "execute_result",
                    "execution_count": 1,
                    "data": {
                        "text/plain": "               Region  Codigo region         Comuna  Codigo comuna  Poblacion  \\\n0  Arica y Parinacota             15          Arica          15101   247552.0   \n1  Arica y Parinacota             15      Camarones          15102     1233.0   \n2  Arica y Parinacota             15  General Lagos          15202      810.0   \n3  Arica y Parinacota             15          Putre          15201     2515.0   \n4            Tarapac\u00e1              1  Alto Hospicio           1107   129999.0   \n\n   2020-03-30  2020-04-01  2020-04-03  2020-04-06  2020-04-08  2020-04-10  \\\n0         6.0         6.0        12.0        41.0        63.0        87.0   \n1         0.0         0.0         0.0         0.0         0.0         0.0   \n2         0.0         0.0         0.0         0.0         0.0         0.0   \n3         0.0         0.0         0.0         0.0         0.0         0.0   \n4         0.0         0.0         0.0         5.0         6.0        10.0   \n\n   2020-04-13  2020-04-15  2020-04-17  Tasa  \n0       115.0       124.0       134.0  54.1  \n1         0.0         0.0         0.0   0.0  \n2         0.0         0.0         0.0   0.0  \n3         0.0         0.0         0.0   0.0  \n4        14.0        15.0        16.0  12.3  ",
                        "text/html": "<div>\n<style scoped>\n    .dataframe tbody tr th:only-of-type {\n        vertical-align: middle;\n    }\n\n    .dataframe tbody tr th {\n        vertical-align: top;\n    }\n\n    .dataframe thead th {\n        text-align: right;\n    }\n</style>\n<table border=\"1\" class=\"dataframe\">\n  <thead>\n    <tr style=\"text-align: right;\">\n      <th></th>\n      <th>Region</th>\n      <th>Codigo region</th>\n      <th>Comuna</th>\n      <th>Codigo comuna</th>\n      <th>Poblacion</th>\n      <th>2020-03-30</th>\n      <th>2020-04-01</th>\n      <th>2020-04-03</th>\n      <th>2020-04-06</th>\n      <th>2020-04-08</th>\n      <th>2020-04-10</th>\n      <th>2020-04-13</th>\n      <th>2020-04-15</th>\n      <th>2020-04-17</th>\n      <th>Tasa</th>\n    </tr>\n  </thead>\n  <tbody>\n    <tr>\n      <th>0</th>\n      <td>Arica y Parinacota</td>\n      <td>15</td>\n      <td>Arica</td>\n      <td>15101</td>\n      <td>247552.0</td>\n      <td>6.0</td>\n      <td>6.0</td>\n      <td>12.0</td>\n      <td>41.0</td>\n      <td>63.0</td>\n      <td>87.0</td>\n      <td>115.0</td>\n      <td>124.0</td>\n      <td>134.0</td>\n      <td>54.1</td>\n    </tr>\n    <tr>\n      <th>1</th>\n      <td>Arica y Parinacota</td>\n      <td>15</td>\n      <td>Camarones</td>\n      <td>15102</td>\n      <td>1233.0</td>\n      <td>0.0</td>\n      <td>0.0</td>\n      <td>0.0</td>\n      <td>0.0</td>\n      <td>0.0</td>\n      <td>0.0</td>\n      <td>0.0</td>\n      <td>0.0</td>\n      <td>0.0</td>\n      <td>0.0</td>\n    </tr>\n    <tr>\n      <th>2</th>\n      <td>Arica y Parinacota</td>\n      <td>15</td>\n      <td>General Lagos</td>\n      <td>15202</td>\n      <td>810.0</td>\n      <td>0.0</td>\n      <td>0.0</td>\n      <td>0.0</td>\n      <td>0.0</td>\n      <td>0.0</td>\n      <td>0.0</td>\n      <td>0.0</td>\n      <td>0.0</td>\n      <td>0.0</td>\n      <td>0.0</td>\n    </tr>\n    <tr>\n      <th>3</th>\n      <td>Arica y Parinacota</td>\n      <td>15</td>\n      <td>Putre</td>\n      <td>15201</td>\n      <td>2515.0</td>\n      <td>0.0</td>\n      <td>0.0</td>\n      <td>0.0</td>\n      <td>0.0</td>\n      <td>0.0</td>\n      <td>0.0</td>\n      <td>0.0</td>\n      <td>0.0</td>\n      <td>0.0</td>\n      <td>0.0</td>\n    </tr>\n    <tr>\n      <th>4</th>\n      <td>Tarapac\u00e1</td>\n      <td>1</td>\n      <td>Alto Hospicio</td>\n      <td>1107</td>\n      <td>129999.0</td>\n      <td>0.0</td>\n      <td>0.0</td>\n      <td>0.0</td>\n      <td>5.0</td>\n      <td>6.0</td>\n      <td>10.0</td>\n      <td>14.0</td>\n      <td>15.0</td>\n      <td>16.0</td>\n      <td>12.3</td>\n    </tr>\n  </tbody>\n</table>\n</div>"
                    },
                    "metadata": {}
                }
            ]
        },
        {
            "metadata": {},
            "cell_type": "markdown",
            "source": "# Manejo de datos\n## Ejercicio 1 \nAgrupar la cantidad de casos por d\u00eda de cada regi\u00f3n. \u00bfCual es la cantidad de contagios reportados por regi\u00f3n al termino de cada uno de los d\u00edas?\n\\\n*HINT: Utilizar metodo loc para crear un nuevo dataframe con solo las columnas necesarias. \nUtilizar el metodo group_by para agrupar por Region*"
        },
        {
            "metadata": {},
            "cell_type": "code",
            "source": "# df.isnull()\ndf_contagios = df.drop(['Tasa','Codigo region', 'Codigo comuna'], axis=1)\n# Agrupar y sumar por region\ndf_cont_region = df_contagios.groupby(['Region']).sum()\ndf_cont_region\n",
            "execution_count": 85,
            "outputs": [
                {
                    "output_type": "execute_result",
                    "execution_count": 85,
                    "data": {
                        "text/plain": "                    Poblacion  2020-03-30  2020-04-01  2020-04-03  2020-04-06  \\\nRegion                                                                          \nAntofagasta          691854.0        29.0        32.0        49.0        65.0   \nAraucan\u00eda           1014343.0       187.0       292.0       414.0       541.0   \nArica y Parinacota   252110.0         6.0         6.0        12.0        41.0   \nAtacama              314709.0         0.0         0.0         4.0         4.0   \nAys\u00e9n                107297.0         0.0         0.0         4.0         5.0   \nBiob\u00edo              1663696.0        72.0       224.0       263.0       360.0   \nCoquimbo             836096.0        21.0        23.0        31.0        49.0   \nLos Lagos            891440.0       104.0       169.0       198.0       250.0   \nLos R\u00edos             405835.0        12.0        54.0        57.0        98.0   \nMagallanes           178362.0        34.0        97.0       154.0       218.0   \nMaule               1131939.0        48.0        55.0        67.0        88.0   \nMetropolitana       8125072.0      1180.0      1483.0      1729.0      2193.0   \nO\u2019Higgins            991063.0         7.0        17.0        24.0        31.0   \nTarapac\u00e1             382773.0         5.0         9.0        10.0        18.0   \nValpara\u00edso          1960170.0        81.0       111.0       142.0       162.0   \n\u00d1uble                511551.0       151.0       245.0       357.0       463.0   \n\n                    2020-04-08  2020-04-10  2020-04-13  2020-04-15  2020-04-17  \nRegion                                                                          \nAntofagasta               72.0       105.0       149.0       176.0       211.0  \nAraucan\u00eda                628.0       680.0       758.0       823.0       884.0  \nArica y Parinacota        63.0        87.0       115.0       124.0       134.0  \nAtacama                    5.0        12.0        13.0        13.0        13.0  \nAys\u00e9n                      4.0         4.0         7.0         7.0         7.0  \nBiob\u00edo                   409.0       439.0       507.0       542.0       573.0  \nCoquimbo                  54.0        59.0        66.0        66.0        68.0  \nLos Lagos                283.0       304.0       380.0       390.0       412.0  \nLos R\u00edos                 108.0       118.0       137.0       150.0       154.0  \nMagallanes               223.0       318.0       415.0       444.0       501.0  \nMaule                    101.0       108.0       141.0       152.0       223.0  \nMetropolitana           2542.0      3180.0      3802.0      4228.0      4915.0  \nO\u2019Higgins                 31.0        31.0        48.0        54.0        55.0  \nTarapac\u00e1                  22.0        33.0        52.0        62.0        73.0  \nValpara\u00edso               199.0       220.0       273.0       299.0       345.0  \n\u00d1uble                    550.0       578.0       618.0       634.0       656.0  ",
                        "text/html": "<div>\n<style scoped>\n    .dataframe tbody tr th:only-of-type {\n        vertical-align: middle;\n    }\n\n    .dataframe tbody tr th {\n        vertical-align: top;\n    }\n\n    .dataframe thead th {\n        text-align: right;\n    }\n</style>\n<table border=\"1\" class=\"dataframe\">\n  <thead>\n    <tr style=\"text-align: right;\">\n      <th></th>\n      <th>Poblacion</th>\n      <th>2020-03-30</th>\n      <th>2020-04-01</th>\n      <th>2020-04-03</th>\n      <th>2020-04-06</th>\n      <th>2020-04-08</th>\n      <th>2020-04-10</th>\n      <th>2020-04-13</th>\n      <th>2020-04-15</th>\n      <th>2020-04-17</th>\n    </tr>\n    <tr>\n      <th>Region</th>\n      <th></th>\n      <th></th>\n      <th></th>\n      <th></th>\n      <th></th>\n      <th></th>\n      <th></th>\n      <th></th>\n      <th></th>\n      <th></th>\n    </tr>\n  </thead>\n  <tbody>\n    <tr>\n      <th>Antofagasta</th>\n      <td>691854.0</td>\n      <td>29.0</td>\n      <td>32.0</td>\n      <td>49.0</td>\n      <td>65.0</td>\n      <td>72.0</td>\n      <td>105.0</td>\n      <td>149.0</td>\n      <td>176.0</td>\n      <td>211.0</td>\n    </tr>\n    <tr>\n      <th>Araucan\u00eda</th>\n      <td>1014343.0</td>\n      <td>187.0</td>\n      <td>292.0</td>\n      <td>414.0</td>\n      <td>541.0</td>\n      <td>628.0</td>\n      <td>680.0</td>\n      <td>758.0</td>\n      <td>823.0</td>\n      <td>884.0</td>\n    </tr>\n    <tr>\n      <th>Arica y Parinacota</th>\n      <td>252110.0</td>\n      <td>6.0</td>\n      <td>6.0</td>\n      <td>12.0</td>\n      <td>41.0</td>\n      <td>63.0</td>\n      <td>87.0</td>\n      <td>115.0</td>\n      <td>124.0</td>\n      <td>134.0</td>\n    </tr>\n    <tr>\n      <th>Atacama</th>\n      <td>314709.0</td>\n      <td>0.0</td>\n      <td>0.0</td>\n      <td>4.0</td>\n      <td>4.0</td>\n      <td>5.0</td>\n      <td>12.0</td>\n      <td>13.0</td>\n      <td>13.0</td>\n      <td>13.0</td>\n    </tr>\n    <tr>\n      <th>Ays\u00e9n</th>\n      <td>107297.0</td>\n      <td>0.0</td>\n      <td>0.0</td>\n      <td>4.0</td>\n      <td>5.0</td>\n      <td>4.0</td>\n      <td>4.0</td>\n      <td>7.0</td>\n      <td>7.0</td>\n      <td>7.0</td>\n    </tr>\n    <tr>\n      <th>Biob\u00edo</th>\n      <td>1663696.0</td>\n      <td>72.0</td>\n      <td>224.0</td>\n      <td>263.0</td>\n      <td>360.0</td>\n      <td>409.0</td>\n      <td>439.0</td>\n      <td>507.0</td>\n      <td>542.0</td>\n      <td>573.0</td>\n    </tr>\n    <tr>\n      <th>Coquimbo</th>\n      <td>836096.0</td>\n      <td>21.0</td>\n      <td>23.0</td>\n      <td>31.0</td>\n      <td>49.0</td>\n      <td>54.0</td>\n      <td>59.0</td>\n      <td>66.0</td>\n      <td>66.0</td>\n      <td>68.0</td>\n    </tr>\n    <tr>\n      <th>Los Lagos</th>\n      <td>891440.0</td>\n      <td>104.0</td>\n      <td>169.0</td>\n      <td>198.0</td>\n      <td>250.0</td>\n      <td>283.0</td>\n      <td>304.0</td>\n      <td>380.0</td>\n      <td>390.0</td>\n      <td>412.0</td>\n    </tr>\n    <tr>\n      <th>Los R\u00edos</th>\n      <td>405835.0</td>\n      <td>12.0</td>\n      <td>54.0</td>\n      <td>57.0</td>\n      <td>98.0</td>\n      <td>108.0</td>\n      <td>118.0</td>\n      <td>137.0</td>\n      <td>150.0</td>\n      <td>154.0</td>\n    </tr>\n    <tr>\n      <th>Magallanes</th>\n      <td>178362.0</td>\n      <td>34.0</td>\n      <td>97.0</td>\n      <td>154.0</td>\n      <td>218.0</td>\n      <td>223.0</td>\n      <td>318.0</td>\n      <td>415.0</td>\n      <td>444.0</td>\n      <td>501.0</td>\n    </tr>\n    <tr>\n      <th>Maule</th>\n      <td>1131939.0</td>\n      <td>48.0</td>\n      <td>55.0</td>\n      <td>67.0</td>\n      <td>88.0</td>\n      <td>101.0</td>\n      <td>108.0</td>\n      <td>141.0</td>\n      <td>152.0</td>\n      <td>223.0</td>\n    </tr>\n    <tr>\n      <th>Metropolitana</th>\n      <td>8125072.0</td>\n      <td>1180.0</td>\n      <td>1483.0</td>\n      <td>1729.0</td>\n      <td>2193.0</td>\n      <td>2542.0</td>\n      <td>3180.0</td>\n      <td>3802.0</td>\n      <td>4228.0</td>\n      <td>4915.0</td>\n    </tr>\n    <tr>\n      <th>O\u2019Higgins</th>\n      <td>991063.0</td>\n      <td>7.0</td>\n      <td>17.0</td>\n      <td>24.0</td>\n      <td>31.0</td>\n      <td>31.0</td>\n      <td>31.0</td>\n      <td>48.0</td>\n      <td>54.0</td>\n      <td>55.0</td>\n    </tr>\n    <tr>\n      <th>Tarapac\u00e1</th>\n      <td>382773.0</td>\n      <td>5.0</td>\n      <td>9.0</td>\n      <td>10.0</td>\n      <td>18.0</td>\n      <td>22.0</td>\n      <td>33.0</td>\n      <td>52.0</td>\n      <td>62.0</td>\n      <td>73.0</td>\n    </tr>\n    <tr>\n      <th>Valpara\u00edso</th>\n      <td>1960170.0</td>\n      <td>81.0</td>\n      <td>111.0</td>\n      <td>142.0</td>\n      <td>162.0</td>\n      <td>199.0</td>\n      <td>220.0</td>\n      <td>273.0</td>\n      <td>299.0</td>\n      <td>345.0</td>\n    </tr>\n    <tr>\n      <th>\u00d1uble</th>\n      <td>511551.0</td>\n      <td>151.0</td>\n      <td>245.0</td>\n      <td>357.0</td>\n      <td>463.0</td>\n      <td>550.0</td>\n      <td>578.0</td>\n      <td>618.0</td>\n      <td>634.0</td>\n      <td>656.0</td>\n    </tr>\n  </tbody>\n</table>\n</div>"
                    },
                    "metadata": {}
                }
            ]
        },
        {
            "metadata": {},
            "cell_type": "markdown",
            "source": "## Ejercicio 2\nPor cada regi\u00f3n normalizar (por cantidad de habitantes) la cantidad de contagiados al \u00faltimo d\u00eda del dataset. Ordene los datos de forma descendente. \u00bfCual es la regi\u00f3n con m\u00e1s contagios por habitantes?\n\\\n*HINT: Utilizar metodo \"sort_values\"*"
        },
        {
            "metadata": {},
            "cell_type": "code",
            "source": "df_norm = df_cont_region['2020-04-17']/df_cont_region['Poblacion']\ndf_region = df_norm.sort_values(ascending=False)\ndf_region.index[0]",
            "execution_count": 84,
            "outputs": [
                {
                    "output_type": "execute_result",
                    "execution_count": 84,
                    "data": {
                        "text/plain": "'Magallanes'"
                    },
                    "metadata": {}
                }
            ]
        },
        {
            "metadata": {},
            "cell_type": "markdown",
            "source": "## Ejercicio 3\nObtenga el resultado del ejercicio anterior sin recurrir a un ordenamiento de los datos.\n\\\n*HINT: Utilizar metodo \"idxmax\"*"
        },
        {
            "metadata": {},
            "cell_type": "code",
            "source": "df_norm.idxmax(axis=1)",
            "execution_count": 82,
            "outputs": [
                {
                    "output_type": "execute_result",
                    "execution_count": 82,
                    "data": {
                        "text/plain": "'Magallanes'"
                    },
                    "metadata": {}
                }
            ]
        },
        {
            "metadata": {},
            "cell_type": "markdown",
            "source": "## Ejercicio 4\nCalcular el incremente de los contagios entre fechas consecutivas.\n\\\n*Hint: Crear un nuevo dataframe, cuyas columnas sean la cantidad de dias transcurridos y su valor sea la diferencia de los dos dias consecutivos*"
        },
        {
            "metadata": {},
            "cell_type": "code",
            "source": "columns_index = df_cont_region.columns\ncolumns = list(columns_index[1:])\nfirst = columns[0]\ndef inc_days(df_region, init_col):\n    df_cont_inc = df_region.copy()\n    first_column = df_cont_inc[init_col]\n    df_cont_inc['0'] = first_column\n    for ind in range(1, len(columns)):\n        df_cont_inc[str(ind)] = df_cont_region[columns[ind]] - df_cont_region[columns[ind-1]]\n    return df_cont_inc\n\ndf_incremental = inc_days(df_cont_region, '2020-03-30')\ndf_inc = df_incremental[list(map(str, range(len(columns))))]\ndf_inc\n\n",
            "execution_count": 234,
            "outputs": [
                {
                    "output_type": "execute_result",
                    "execution_count": 234,
                    "data": {
                        "text/plain": "                         0      1      2      3      4      5      6      7  \\\nRegion                                                                        \nAntofagasta           29.0    3.0   17.0   16.0    7.0   33.0   44.0   27.0   \nAraucan\u00eda            187.0  105.0  122.0  127.0   87.0   52.0   78.0   65.0   \nArica y Parinacota     6.0    0.0    6.0   29.0   22.0   24.0   28.0    9.0   \nAtacama                0.0    0.0    4.0    0.0    1.0    7.0    1.0    0.0   \nAys\u00e9n                  0.0    0.0    4.0    1.0   -1.0    0.0    3.0    0.0   \nBiob\u00edo                72.0  152.0   39.0   97.0   49.0   30.0   68.0   35.0   \nCoquimbo              21.0    2.0    8.0   18.0    5.0    5.0    7.0    0.0   \nLos Lagos            104.0   65.0   29.0   52.0   33.0   21.0   76.0   10.0   \nLos R\u00edos              12.0   42.0    3.0   41.0   10.0   10.0   19.0   13.0   \nMagallanes            34.0   63.0   57.0   64.0    5.0   95.0   97.0   29.0   \nMaule                 48.0    7.0   12.0   21.0   13.0    7.0   33.0   11.0   \nMetropolitana       1180.0  303.0  246.0  464.0  349.0  638.0  622.0  426.0   \nO\u2019Higgins              7.0   10.0    7.0    7.0    0.0    0.0   17.0    6.0   \nTarapac\u00e1               5.0    4.0    1.0    8.0    4.0   11.0   19.0   10.0   \nValpara\u00edso            81.0   30.0   31.0   20.0   37.0   21.0   53.0   26.0   \n\u00d1uble                151.0   94.0  112.0  106.0   87.0   28.0   40.0   16.0   \n\n                        8  \nRegion                     \nAntofagasta          35.0  \nAraucan\u00eda            61.0  \nArica y Parinacota   10.0  \nAtacama               0.0  \nAys\u00e9n                 0.0  \nBiob\u00edo               31.0  \nCoquimbo              2.0  \nLos Lagos            22.0  \nLos R\u00edos              4.0  \nMagallanes           57.0  \nMaule                71.0  \nMetropolitana       687.0  \nO\u2019Higgins             1.0  \nTarapac\u00e1             11.0  \nValpara\u00edso           46.0  \n\u00d1uble                22.0  ",
                        "text/html": "<div>\n<style scoped>\n    .dataframe tbody tr th:only-of-type {\n        vertical-align: middle;\n    }\n\n    .dataframe tbody tr th {\n        vertical-align: top;\n    }\n\n    .dataframe thead th {\n        text-align: right;\n    }\n</style>\n<table border=\"1\" class=\"dataframe\">\n  <thead>\n    <tr style=\"text-align: right;\">\n      <th></th>\n      <th>0</th>\n      <th>1</th>\n      <th>2</th>\n      <th>3</th>\n      <th>4</th>\n      <th>5</th>\n      <th>6</th>\n      <th>7</th>\n      <th>8</th>\n    </tr>\n    <tr>\n      <th>Region</th>\n      <th></th>\n      <th></th>\n      <th></th>\n      <th></th>\n      <th></th>\n      <th></th>\n      <th></th>\n      <th></th>\n      <th></th>\n    </tr>\n  </thead>\n  <tbody>\n    <tr>\n      <th>Antofagasta</th>\n      <td>29.0</td>\n      <td>3.0</td>\n      <td>17.0</td>\n      <td>16.0</td>\n      <td>7.0</td>\n      <td>33.0</td>\n      <td>44.0</td>\n      <td>27.0</td>\n      <td>35.0</td>\n    </tr>\n    <tr>\n      <th>Araucan\u00eda</th>\n      <td>187.0</td>\n      <td>105.0</td>\n      <td>122.0</td>\n      <td>127.0</td>\n      <td>87.0</td>\n      <td>52.0</td>\n      <td>78.0</td>\n      <td>65.0</td>\n      <td>61.0</td>\n    </tr>\n    <tr>\n      <th>Arica y Parinacota</th>\n      <td>6.0</td>\n      <td>0.0</td>\n      <td>6.0</td>\n      <td>29.0</td>\n      <td>22.0</td>\n      <td>24.0</td>\n      <td>28.0</td>\n      <td>9.0</td>\n      <td>10.0</td>\n    </tr>\n    <tr>\n      <th>Atacama</th>\n      <td>0.0</td>\n      <td>0.0</td>\n      <td>4.0</td>\n      <td>0.0</td>\n      <td>1.0</td>\n      <td>7.0</td>\n      <td>1.0</td>\n      <td>0.0</td>\n      <td>0.0</td>\n    </tr>\n    <tr>\n      <th>Ays\u00e9n</th>\n      <td>0.0</td>\n      <td>0.0</td>\n      <td>4.0</td>\n      <td>1.0</td>\n      <td>-1.0</td>\n      <td>0.0</td>\n      <td>3.0</td>\n      <td>0.0</td>\n      <td>0.0</td>\n    </tr>\n    <tr>\n      <th>Biob\u00edo</th>\n      <td>72.0</td>\n      <td>152.0</td>\n      <td>39.0</td>\n      <td>97.0</td>\n      <td>49.0</td>\n      <td>30.0</td>\n      <td>68.0</td>\n      <td>35.0</td>\n      <td>31.0</td>\n    </tr>\n    <tr>\n      <th>Coquimbo</th>\n      <td>21.0</td>\n      <td>2.0</td>\n      <td>8.0</td>\n      <td>18.0</td>\n      <td>5.0</td>\n      <td>5.0</td>\n      <td>7.0</td>\n      <td>0.0</td>\n      <td>2.0</td>\n    </tr>\n    <tr>\n      <th>Los Lagos</th>\n      <td>104.0</td>\n      <td>65.0</td>\n      <td>29.0</td>\n      <td>52.0</td>\n      <td>33.0</td>\n      <td>21.0</td>\n      <td>76.0</td>\n      <td>10.0</td>\n      <td>22.0</td>\n    </tr>\n    <tr>\n      <th>Los R\u00edos</th>\n      <td>12.0</td>\n      <td>42.0</td>\n      <td>3.0</td>\n      <td>41.0</td>\n      <td>10.0</td>\n      <td>10.0</td>\n      <td>19.0</td>\n      <td>13.0</td>\n      <td>4.0</td>\n    </tr>\n    <tr>\n      <th>Magallanes</th>\n      <td>34.0</td>\n      <td>63.0</td>\n      <td>57.0</td>\n      <td>64.0</td>\n      <td>5.0</td>\n      <td>95.0</td>\n      <td>97.0</td>\n      <td>29.0</td>\n      <td>57.0</td>\n    </tr>\n    <tr>\n      <th>Maule</th>\n      <td>48.0</td>\n      <td>7.0</td>\n      <td>12.0</td>\n      <td>21.0</td>\n      <td>13.0</td>\n      <td>7.0</td>\n      <td>33.0</td>\n      <td>11.0</td>\n      <td>71.0</td>\n    </tr>\n    <tr>\n      <th>Metropolitana</th>\n      <td>1180.0</td>\n      <td>303.0</td>\n      <td>246.0</td>\n      <td>464.0</td>\n      <td>349.0</td>\n      <td>638.0</td>\n      <td>622.0</td>\n      <td>426.0</td>\n      <td>687.0</td>\n    </tr>\n    <tr>\n      <th>O\u2019Higgins</th>\n      <td>7.0</td>\n      <td>10.0</td>\n      <td>7.0</td>\n      <td>7.0</td>\n      <td>0.0</td>\n      <td>0.0</td>\n      <td>17.0</td>\n      <td>6.0</td>\n      <td>1.0</td>\n    </tr>\n    <tr>\n      <th>Tarapac\u00e1</th>\n      <td>5.0</td>\n      <td>4.0</td>\n      <td>1.0</td>\n      <td>8.0</td>\n      <td>4.0</td>\n      <td>11.0</td>\n      <td>19.0</td>\n      <td>10.0</td>\n      <td>11.0</td>\n    </tr>\n    <tr>\n      <th>Valpara\u00edso</th>\n      <td>81.0</td>\n      <td>30.0</td>\n      <td>31.0</td>\n      <td>20.0</td>\n      <td>37.0</td>\n      <td>21.0</td>\n      <td>53.0</td>\n      <td>26.0</td>\n      <td>46.0</td>\n    </tr>\n    <tr>\n      <th>\u00d1uble</th>\n      <td>151.0</td>\n      <td>94.0</td>\n      <td>112.0</td>\n      <td>106.0</td>\n      <td>87.0</td>\n      <td>28.0</td>\n      <td>40.0</td>\n      <td>16.0</td>\n      <td>22.0</td>\n    </tr>\n  </tbody>\n</table>\n</div>"
                    },
                    "metadata": {}
                }
            ]
        },
        {
            "metadata": {},
            "cell_type": "markdown",
            "source": "## Ejercicio 5\nPor cada regi\u00f3n: \u00bfCual fue el d\u00eda con un mayor incremento entre contagiados?\n\\\n*Hint: Utilizar metodo idxmax*"
        },
        {
            "metadata": {},
            "cell_type": "code",
            "source": "# df_inc.transpose().max()\ndf_inc.idxmax(axis=1, skipna=True)",
            "execution_count": 241,
            "outputs": [
                {
                    "output_type": "execute_result",
                    "execution_count": 241,
                    "data": {
                        "text/plain": "Region\nAntofagasta           6\nAraucan\u00eda             0\nArica y Parinacota    3\nAtacama               5\nAys\u00e9n                 2\nBiob\u00edo                1\nCoquimbo              0\nLos Lagos             0\nLos R\u00edos              1\nMagallanes            6\nMaule                 8\nMetropolitana         0\nO\u2019Higgins             6\nTarapac\u00e1              6\nValpara\u00edso            0\n\u00d1uble                 0\ndtype: object"
                    },
                    "metadata": {}
                }
            ]
        },
        {
            "metadata": {},
            "cell_type": "markdown",
            "source": "## Ejercicio 6\nObtenga estadisticas basicas de los nuevos contagios por d\u00eda. "
        },
        {
            "metadata": {},
            "cell_type": "code",
            "source": "df_inc.describe()",
            "execution_count": 237,
            "outputs": [
                {
                    "output_type": "execute_result",
                    "execution_count": 237,
                    "data": {
                        "text/plain": "                 0           1          2           3           4           5  \\\ncount    16.000000   16.000000   16.00000   16.000000   16.000000   16.000000   \nmean    121.062500   55.000000   43.62500   66.937500   44.250000   61.375000   \nstd     287.892218   80.585358   65.67077  112.912042   86.154512  155.580151   \nmin       0.000000    0.000000    1.00000    0.000000   -1.000000    0.000000   \n25%       6.750000    2.750000    5.50000   14.000000    4.750000    7.000000   \n50%      31.500000   20.000000   14.50000   25.000000   11.500000   21.000000   \n75%      86.750000   72.250000   43.50000   72.250000   40.000000   30.750000   \nmax    1180.000000  303.000000  246.00000  464.000000  349.000000  638.000000   \n\n               6           7           8  \ncount   16.00000   16.000000   16.000000  \nmean    75.31250   42.687500   66.250000  \nstd    148.61885  103.563004  167.185924  \nmin      1.00000    0.000000    0.000000  \n25%     18.50000    8.250000    3.500000  \n50%     36.50000   12.000000   22.000000  \n75%     70.00000   27.500000   48.750000  \nmax    622.00000  426.000000  687.000000  ",
                        "text/html": "<div>\n<style scoped>\n    .dataframe tbody tr th:only-of-type {\n        vertical-align: middle;\n    }\n\n    .dataframe tbody tr th {\n        vertical-align: top;\n    }\n\n    .dataframe thead th {\n        text-align: right;\n    }\n</style>\n<table border=\"1\" class=\"dataframe\">\n  <thead>\n    <tr style=\"text-align: right;\">\n      <th></th>\n      <th>0</th>\n      <th>1</th>\n      <th>2</th>\n      <th>3</th>\n      <th>4</th>\n      <th>5</th>\n      <th>6</th>\n      <th>7</th>\n      <th>8</th>\n    </tr>\n  </thead>\n  <tbody>\n    <tr>\n      <th>count</th>\n      <td>16.000000</td>\n      <td>16.000000</td>\n      <td>16.00000</td>\n      <td>16.000000</td>\n      <td>16.000000</td>\n      <td>16.000000</td>\n      <td>16.00000</td>\n      <td>16.000000</td>\n      <td>16.000000</td>\n    </tr>\n    <tr>\n      <th>mean</th>\n      <td>121.062500</td>\n      <td>55.000000</td>\n      <td>43.62500</td>\n      <td>66.937500</td>\n      <td>44.250000</td>\n      <td>61.375000</td>\n      <td>75.31250</td>\n      <td>42.687500</td>\n      <td>66.250000</td>\n    </tr>\n    <tr>\n      <th>std</th>\n      <td>287.892218</td>\n      <td>80.585358</td>\n      <td>65.67077</td>\n      <td>112.912042</td>\n      <td>86.154512</td>\n      <td>155.580151</td>\n      <td>148.61885</td>\n      <td>103.563004</td>\n      <td>167.185924</td>\n    </tr>\n    <tr>\n      <th>min</th>\n      <td>0.000000</td>\n      <td>0.000000</td>\n      <td>1.00000</td>\n      <td>0.000000</td>\n      <td>-1.000000</td>\n      <td>0.000000</td>\n      <td>1.00000</td>\n      <td>0.000000</td>\n      <td>0.000000</td>\n    </tr>\n    <tr>\n      <th>25%</th>\n      <td>6.750000</td>\n      <td>2.750000</td>\n      <td>5.50000</td>\n      <td>14.000000</td>\n      <td>4.750000</td>\n      <td>7.000000</td>\n      <td>18.50000</td>\n      <td>8.250000</td>\n      <td>3.500000</td>\n    </tr>\n    <tr>\n      <th>50%</th>\n      <td>31.500000</td>\n      <td>20.000000</td>\n      <td>14.50000</td>\n      <td>25.000000</td>\n      <td>11.500000</td>\n      <td>21.000000</td>\n      <td>36.50000</td>\n      <td>12.000000</td>\n      <td>22.000000</td>\n    </tr>\n    <tr>\n      <th>75%</th>\n      <td>86.750000</td>\n      <td>72.250000</td>\n      <td>43.50000</td>\n      <td>72.250000</td>\n      <td>40.000000</td>\n      <td>30.750000</td>\n      <td>70.00000</td>\n      <td>27.500000</td>\n      <td>48.750000</td>\n    </tr>\n    <tr>\n      <th>max</th>\n      <td>1180.000000</td>\n      <td>303.000000</td>\n      <td>246.00000</td>\n      <td>464.000000</td>\n      <td>349.000000</td>\n      <td>638.000000</td>\n      <td>622.00000</td>\n      <td>426.000000</td>\n      <td>687.000000</td>\n    </tr>\n  </tbody>\n</table>\n</div>"
                    },
                    "metadata": {}
                }
            ]
        },
        {
            "metadata": {},
            "cell_type": "markdown",
            "source": "# Visualizaci\u00f3n de datos\n## Ejercicio 1\nGraficar la evoluci\u00f3n de contagiados en todo el pa\u00eds seg\u00fan fecha\n\\\n*Hint: Utilizar dataframe creado en ejercicio 1*"
        },
        {
            "metadata": {},
            "cell_type": "code",
            "source": "# import matplotlib as mpl\ncolumns_index = df_cont_region.columns\ncolumns = list(columns_index[1:])\ndf_contagiados_region = df_cont_region.transpose()\ndf_contagiados_region.xlabel('Fechas')\ndf_contagiados_region.ylabel('Contagiados')\ndf_contagiados_region.plot(x=columns, kind='bar')\n# df_cont_region\n# df_contagiados_region",
            "execution_count": 250,
            "outputs": [
                {
                    "output_type": "error",
                    "ename": "AttributeError",
                    "evalue": "'DataFrame' object has no attribute 'xlabel'",
                    "traceback": [
                        "\u001b[0;31m---------------------------------------------------------------------------\u001b[0m",
                        "\u001b[0;31mAttributeError\u001b[0m                            Traceback (most recent call last)",
                        "\u001b[0;32m<ipython-input-250-06c39b9506c4>\u001b[0m in \u001b[0;36m<module>\u001b[0;34m\u001b[0m\n\u001b[1;32m      3\u001b[0m \u001b[0mcolumns\u001b[0m \u001b[0;34m=\u001b[0m \u001b[0mlist\u001b[0m\u001b[0;34m(\u001b[0m\u001b[0mcolumns_index\u001b[0m\u001b[0;34m[\u001b[0m\u001b[0;36m1\u001b[0m\u001b[0;34m:\u001b[0m\u001b[0;34m]\u001b[0m\u001b[0;34m)\u001b[0m\u001b[0;34m\u001b[0m\u001b[0;34m\u001b[0m\u001b[0m\n\u001b[1;32m      4\u001b[0m \u001b[0mdf_contagiados_region\u001b[0m \u001b[0;34m=\u001b[0m \u001b[0mdf_cont_region\u001b[0m\u001b[0;34m.\u001b[0m\u001b[0mtranspose\u001b[0m\u001b[0;34m(\u001b[0m\u001b[0;34m)\u001b[0m\u001b[0;34m\u001b[0m\u001b[0;34m\u001b[0m\u001b[0m\n\u001b[0;32m----> 5\u001b[0;31m \u001b[0mdf_contagiados_region\u001b[0m\u001b[0;34m.\u001b[0m\u001b[0mxlabel\u001b[0m\u001b[0;34m(\u001b[0m\u001b[0;34m'Fechas'\u001b[0m\u001b[0;34m)\u001b[0m\u001b[0;34m\u001b[0m\u001b[0;34m\u001b[0m\u001b[0m\n\u001b[0m\u001b[1;32m      6\u001b[0m \u001b[0mdf_contagiados_region\u001b[0m\u001b[0;34m.\u001b[0m\u001b[0mylabel\u001b[0m\u001b[0;34m(\u001b[0m\u001b[0;34m'Contagiados'\u001b[0m\u001b[0;34m)\u001b[0m\u001b[0;34m\u001b[0m\u001b[0;34m\u001b[0m\u001b[0m\n\u001b[1;32m      7\u001b[0m \u001b[0mdf_contagiados_region\u001b[0m\u001b[0;34m.\u001b[0m\u001b[0mplot\u001b[0m\u001b[0;34m(\u001b[0m\u001b[0mx\u001b[0m\u001b[0;34m=\u001b[0m\u001b[0mcolumns\u001b[0m\u001b[0;34m,\u001b[0m \u001b[0mkind\u001b[0m\u001b[0;34m=\u001b[0m\u001b[0;34m'bar'\u001b[0m\u001b[0;34m)\u001b[0m\u001b[0;34m\u001b[0m\u001b[0;34m\u001b[0m\u001b[0m\n",
                        "\u001b[0;32m/opt/conda/envs/Python36/lib/python3.6/site-packages/pandas/core/generic.py\u001b[0m in \u001b[0;36m__getattr__\u001b[0;34m(self, name)\u001b[0m\n\u001b[1;32m   5065\u001b[0m             \u001b[0;32mif\u001b[0m \u001b[0mself\u001b[0m\u001b[0;34m.\u001b[0m\u001b[0m_info_axis\u001b[0m\u001b[0;34m.\u001b[0m\u001b[0m_can_hold_identifiers_and_holds_name\u001b[0m\u001b[0;34m(\u001b[0m\u001b[0mname\u001b[0m\u001b[0;34m)\u001b[0m\u001b[0;34m:\u001b[0m\u001b[0;34m\u001b[0m\u001b[0;34m\u001b[0m\u001b[0m\n\u001b[1;32m   5066\u001b[0m                 \u001b[0;32mreturn\u001b[0m \u001b[0mself\u001b[0m\u001b[0;34m[\u001b[0m\u001b[0mname\u001b[0m\u001b[0;34m]\u001b[0m\u001b[0;34m\u001b[0m\u001b[0;34m\u001b[0m\u001b[0m\n\u001b[0;32m-> 5067\u001b[0;31m             \u001b[0;32mreturn\u001b[0m \u001b[0mobject\u001b[0m\u001b[0;34m.\u001b[0m\u001b[0m__getattribute__\u001b[0m\u001b[0;34m(\u001b[0m\u001b[0mself\u001b[0m\u001b[0;34m,\u001b[0m \u001b[0mname\u001b[0m\u001b[0;34m)\u001b[0m\u001b[0;34m\u001b[0m\u001b[0;34m\u001b[0m\u001b[0m\n\u001b[0m\u001b[1;32m   5068\u001b[0m \u001b[0;34m\u001b[0m\u001b[0m\n\u001b[1;32m   5069\u001b[0m     \u001b[0;32mdef\u001b[0m \u001b[0m__setattr__\u001b[0m\u001b[0;34m(\u001b[0m\u001b[0mself\u001b[0m\u001b[0;34m,\u001b[0m \u001b[0mname\u001b[0m\u001b[0;34m,\u001b[0m \u001b[0mvalue\u001b[0m\u001b[0;34m)\u001b[0m\u001b[0;34m:\u001b[0m\u001b[0;34m\u001b[0m\u001b[0;34m\u001b[0m\u001b[0m\n",
                        "\u001b[0;31mAttributeError\u001b[0m: 'DataFrame' object has no attribute 'xlabel'"
                    ]
                }
            ]
        },
        {
            "metadata": {},
            "cell_type": "markdown",
            "source": "## Ejercicio 2\nGraficar la cantidad de nuevos contagios en d\u00edas consecutivos en el territorio nacional. Graficar el promedio de nuevos contagios por reportes consecutivos.\n\\\n*Hint: Utilizar el dataframe obtenido en el ejercicio 4. Gener una estructura de datos que repita n-veces el promedio de nuevos contagios, donde n es igual a la cantidad de d\u00edas*."
        },
        {
            "metadata": {},
            "cell_type": "markdown",
            "source": "## Ejercicio 3\nGraficar proporci\u00f3n de casos totales al ultimo d\u00eda seg\u00fan region en un grafico de torta \n\\\n*Hint: Utilizar los datos del la fecha del ultimo reporte de contagiados*"
        },
        {
            "metadata": {},
            "cell_type": "code",
            "source": "",
            "execution_count": null,
            "outputs": []
        }
    ],
    "metadata": {
        "kernelspec": {
            "name": "python3",
            "display_name": "Python 3.6",
            "language": "python"
        },
        "language_info": {
            "name": "python",
            "version": "3.6.9",
            "mimetype": "text/x-python",
            "codemirror_mode": {
                "name": "ipython",
                "version": 3
            },
            "pygments_lexer": "ipython3",
            "nbconvert_exporter": "python",
            "file_extension": ".py"
        }
    },
    "nbformat": 4,
    "nbformat_minor": 1
}