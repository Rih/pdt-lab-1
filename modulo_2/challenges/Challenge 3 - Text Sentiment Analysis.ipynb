{
    "cells": [
        {
            "metadata": {},
            "cell_type": "code",
            "source": "!pip install nltk==3.4.5",
            "execution_count": 1,
            "outputs": [
                {
                    "output_type": "stream",
                    "text": "Collecting nltk==3.4.5\n\u001b[?25l  Downloading https://files.pythonhosted.org/packages/f6/1d/d925cfb4f324ede997f6d47bea4d9babba51b49e87a767c170b77005889d/nltk-3.4.5.zip (1.5MB)\n\u001b[K     |\u2588\u2588\u2588\u2588\u2588\u2588\u2588\u2588\u2588\u2588\u2588\u2588\u2588\u2588\u2588\u2588\u2588\u2588\u2588\u2588\u2588\u2588\u2588\u2588\u2588\u2588\u2588\u2588\u2588\u2588\u2588\u2588| 1.5MB 11.3MB/s eta 0:00:01\n\u001b[?25hRequirement already satisfied: six in /opt/conda/envs/Python36/lib/python3.6/site-packages (from nltk==3.4.5) (1.12.0)\nBuilding wheels for collected packages: nltk\n  Building wheel for nltk (setup.py) ... \u001b[?25ldone\n\u001b[?25h  Stored in directory: /home/dsxuser/.cache/pip/wheels/96/86/f6/68ab24c23f207c0077381a5e3904b2815136b879538a24b483\nSuccessfully built nltk\nInstalling collected packages: nltk\n  Found existing installation: nltk 3.4\n    Uninstalling nltk-3.4:\n      Successfully uninstalled nltk-3.4\nSuccessfully installed nltk-3.4.5\n",
                    "name": "stdout"
                }
            ]
        },
        {
            "metadata": {},
            "cell_type": "code",
            "source": "import nltk",
            "execution_count": 1,
            "outputs": []
        },
        {
            "metadata": {},
            "cell_type": "code",
            "source": "from nltk.sentiment.vader import SentimentIntensityAnalyzer",
            "execution_count": 2,
            "outputs": []
        },
        {
            "metadata": {},
            "cell_type": "code",
            "source": "nltk.download('vader_lexicon')",
            "execution_count": 3,
            "outputs": [
                {
                    "output_type": "stream",
                    "text": "[nltk_data] Downloading package vader_lexicon to\n[nltk_data]     /home/dsxuser/nltk_data...\n",
                    "name": "stderr"
                },
                {
                    "output_type": "execute_result",
                    "execution_count": 3,
                    "data": {
                        "text/plain": "True"
                    },
                    "metadata": {}
                }
            ]
        },
        {
            "metadata": {},
            "cell_type": "code",
            "source": "import sys",
            "execution_count": 4,
            "outputs": []
        },
        {
            "metadata": {},
            "cell_type": "code",
            "source": "sentence = \"I feel really bad\"",
            "execution_count": 5,
            "outputs": []
        },
        {
            "metadata": {},
            "cell_type": "code",
            "source": "def IdentifySentiment( sentence ):\n   sia = SentimentIntensityAnalyzer()\n   ps = sia.polarity_scores( sentence )\n   for i in ps:\n      print('{0}: {1}, '.format(i, ps[i]))",
            "execution_count": 6,
            "outputs": []
        },
        {
            "metadata": {},
            "cell_type": "code",
            "source": "IdentifySentiment( sentence )",
            "execution_count": 7,
            "outputs": [
                {
                    "output_type": "stream",
                    "text": "neg: 0.655, \nneu: 0.345, \npos: 0.0, \ncompound: -0.5849, \n",
                    "name": "stdout"
                }
            ]
        },
        {
            "metadata": {},
            "cell_type": "code",
            "source": "",
            "execution_count": null,
            "outputs": []
        }
    ],
    "metadata": {
        "kernelspec": {
            "name": "python3",
            "display_name": "Python 3.6",
            "language": "python"
        },
        "language_info": {
            "name": "python",
            "version": "3.6.9",
            "mimetype": "text/x-python",
            "codemirror_mode": {
                "name": "ipython",
                "version": 3
            },
            "pygments_lexer": "ipython3",
            "nbconvert_exporter": "python",
            "file_extension": ".py"
        }
    },
    "nbformat": 4,
    "nbformat_minor": 1
}