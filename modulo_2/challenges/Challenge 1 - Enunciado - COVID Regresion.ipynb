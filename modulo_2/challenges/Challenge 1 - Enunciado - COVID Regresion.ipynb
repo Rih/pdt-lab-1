{
    "cells": [
        {
            "cell_type": "markdown",
            "metadata": {
                "collapsed": true
            },
            "source": "# Regresiones lineales"
        },
        {
            "cell_type": "markdown",
            "metadata": {},
            "source": "## Cargar las librerias"
        },
        {
            "cell_type": "code",
            "execution_count": 1,
            "metadata": {},
            "outputs": [],
            "source": "from sklearn.metrics import accuracy_score,mean_squared_error, r2_score\nimport pandas as pd, numpy as np\nimport matplotlib.pyplot as plt\nimport pandas as pd, numpy as np\nimport matplotlib.pyplot as plt\nfrom sklearn.preprocessing import PolynomialFeatures   \nfrom sklearn import linear_model\nfrom datetime import datetime\n"
        },
        {
            "cell_type": "markdown",
            "metadata": {},
            "source": "## Funciones auxiliares"
        },
        {
            "cell_type": "code",
            "execution_count": 2,
            "metadata": {},
            "outputs": [],
            "source": "def two_d_compare(X_test,y_test,y_pred,model_name):\n    plt.subplots(ncols=2, figsize=(10,4))\n    plt.suptitle('Actual vs Predicted data : ' +model_name + '. Variance score: %.2f' % r2_score(y_test, y_pred))\n    plt.subplot(121)\n    plt.scatter(X_test, y_test, alpha=0.8, color='#8CCB9B')\n    plt.title('Actual')\n    plt.subplot(122)\n    plt.scatter(X_test, y_pred,alpha=0.8, color='#E5E88B')\n    plt.title('Predicted')\n    plt.show()\n\ndef model_metrics(regressor,y_test,y_pred):\n    mse = mean_squared_error(y_test,y_pred)\n    print(\"Mean squared error: %.2f\"\n      % mse)\n    r2 = r2_score(y_test, y_pred)\n    print('R2 score: %.2f' % r2 )\n    return [mse, r2]"
        },
        {
            "cell_type": "markdown",
            "metadata": {},
            "source": "## Preprocesamiento de los datos"
        },
        {
            "cell_type": "code",
            "execution_count": 3,
            "metadata": {},
            "outputs": [
                {
                    "name": "stdout",
                    "output_type": "stream",
                    "text": "Variable independiente X\n            Dias transcurridos\n2020-03-03                   0\n2020-03-04                   1\n2020-03-05                   2\n2020-03-06                   3\n2020-03-07                   4\n\n\nVariable dependiente Y\n            Cantidad total de contagiados\n2020-03-03                            1.0\n2020-03-04                            3.0\n2020-03-05                            4.0\n2020-03-06                            5.0\n2020-03-07                            7.0\n"
                }
            ],
            "source": "data =pd.read_csv(\"https://raw.githubusercontent.com/MinCiencia/Datos-COVID19/master/output/producto5/TotalesNacionales.csv\")\n# Transformar string a date para hacer resta\nX = data.columns[1:].to_series().apply(lambda x: datetime.strptime(x, \"%Y-%m-%d\"))\n# Restar a todos los d\u00edas la fecha inicial para obtener el transcurso de dias\nX = X - X[0]\n# Obtener los dias de diferencia\nX = X.apply(lambda x: x.days)\nX= X.to_frame()\nX.columns = [\"Dias transcurridos\"]\nprint(\"Variable independiente X\")\nprint(X.head())\nprint(\"\\n\")\n\nY_aux = data.iloc[1, 1:]\ny = []\nfor i in range(0, len(Y_aux)):\n    y.append(Y_aux[i])\ny = pd.DataFrame(y)\ny.columns = [\"Cantidad total de contagiados\"]\ny.index = X.index\nprint(\"Variable dependiente Y\")\nprint(y.head())\n"
        },
        {
            "cell_type": "markdown",
            "metadata": {},
            "source": "## Modelos\n### Regresi\u00f3n lineal y = b0 + b1*x\nDado el dataset entregado, realizar la siguiente regresion lineal:\n$$y = \\beta_0 + \\beta_1{x}$$"
        },
        {
            "cell_type": "code",
            "execution_count": null,
            "metadata": {},
            "outputs": [],
            "source": ""
        },
        {
            "cell_type": "markdown",
            "metadata": {},
            "source": "### Regresi\u00f3n lineal y = b0 + b1*x + b2*x^2\nDado el dataset entregado, realizar la siguiente regresion lineal:\n$$y = \\beta_0 + \\beta_1{x} + \\beta_2{x^2} $$"
        },
        {
            "cell_type": "code",
            "execution_count": null,
            "metadata": {},
            "outputs": [],
            "source": ""
        }
    ],
    "metadata": {
        "kernelspec": {
            "display_name": "Python 3.6",
            "language": "python",
            "name": "python3"
        },
        "language_info": {
            "codemirror_mode": {
                "name": "ipython",
                "version": 3
            },
            "file_extension": ".py",
            "mimetype": "text/x-python",
            "name": "python",
            "nbconvert_exporter": "python",
            "pygments_lexer": "ipython3",
            "version": "3.6.9"
        }
    },
    "nbformat": 4,
    "nbformat_minor": 1
}